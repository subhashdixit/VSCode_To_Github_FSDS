{
 "cells": [
  {
   "cell_type": "markdown",
   "id": "d709c581",
   "metadata": {},
   "source": [
    "# 1. Try to print a prime number in between 1 to 1000"
   ]
  },
  {
   "cell_type": "code",
   "execution_count": 1,
   "id": "2e303bbf",
   "metadata": {},
   "outputs": [
    {
     "name": "stdout",
     "output_type": "stream",
     "text": [
      "2\n",
      "3\n",
      "5\n",
      "7\n",
      "11\n",
      "13\n",
      "17\n",
      "19\n",
      "23\n",
      "29\n",
      "31\n",
      "37\n",
      "41\n",
      "43\n",
      "47\n",
      "53\n",
      "59\n",
      "61\n",
      "67\n",
      "71\n",
      "73\n",
      "79\n",
      "83\n",
      "89\n",
      "97\n",
      "101\n",
      "103\n",
      "107\n",
      "109\n",
      "113\n",
      "127\n",
      "131\n",
      "137\n",
      "139\n",
      "149\n",
      "151\n",
      "157\n",
      "163\n",
      "167\n",
      "173\n",
      "179\n",
      "181\n",
      "191\n",
      "193\n",
      "197\n",
      "199\n",
      "211\n",
      "223\n",
      "227\n",
      "229\n",
      "233\n",
      "239\n",
      "241\n",
      "251\n",
      "257\n",
      "263\n",
      "269\n",
      "271\n",
      "277\n",
      "281\n",
      "283\n",
      "293\n",
      "307\n",
      "311\n",
      "313\n",
      "317\n",
      "331\n",
      "337\n",
      "347\n",
      "349\n",
      "353\n",
      "359\n",
      "367\n",
      "373\n",
      "379\n",
      "383\n",
      "389\n",
      "397\n",
      "401\n",
      "409\n",
      "419\n",
      "421\n",
      "431\n",
      "433\n",
      "439\n",
      "443\n",
      "449\n",
      "457\n",
      "461\n",
      "463\n",
      "467\n",
      "479\n",
      "487\n",
      "491\n",
      "499\n",
      "503\n",
      "509\n",
      "521\n",
      "523\n",
      "541\n",
      "547\n",
      "557\n",
      "563\n",
      "569\n",
      "571\n",
      "577\n",
      "587\n",
      "593\n",
      "599\n",
      "601\n",
      "607\n",
      "613\n",
      "617\n",
      "619\n",
      "631\n",
      "641\n",
      "643\n",
      "647\n",
      "653\n",
      "659\n",
      "661\n",
      "673\n",
      "677\n",
      "683\n",
      "691\n",
      "701\n",
      "709\n",
      "719\n",
      "727\n",
      "733\n",
      "739\n",
      "743\n",
      "751\n",
      "757\n",
      "761\n",
      "769\n",
      "773\n",
      "787\n",
      "797\n",
      "809\n",
      "811\n",
      "821\n",
      "823\n",
      "827\n",
      "829\n",
      "839\n",
      "853\n",
      "857\n",
      "859\n",
      "863\n",
      "877\n",
      "881\n",
      "883\n",
      "887\n",
      "907\n",
      "911\n",
      "919\n",
      "929\n",
      "937\n",
      "941\n",
      "947\n",
      "953\n",
      "967\n",
      "971\n",
      "977\n",
      "983\n",
      "991\n",
      "997\n"
     ]
    }
   ],
   "source": [
    "a = 1\n",
    "b = 1000\n",
    "while a<=b:\n",
    "    if a > 1:\n",
    "        for i in range(2, a):\n",
    "            if (a % i) == 0:\n",
    "                break\n",
    "        else:\n",
    "            print(a)\n",
    "        \n",
    "    a=a+1"
   ]
  },
  {
   "cell_type": "markdown",
   "id": "7d3041e8",
   "metadata": {},
   "source": [
    "# 2. Try to write a function which is equivalent to print function in Python"
   ]
  },
  {
   "cell_type": "code",
   "execution_count": null,
   "id": "fe86873a",
   "metadata": {},
   "outputs": [],
   "source": []
  },
  {
   "cell_type": "markdown",
   "id": "a77caed6",
   "metadata": {},
   "source": [
    "# 3. Try to write a function which is a replica of list append,extend and pop function"
   ]
  },
  {
   "cell_type": "code",
   "execution_count": 76,
   "id": "034c27f6",
   "metadata": {},
   "outputs": [
    {
     "name": "stdout",
     "output_type": "stream",
     "text": [
      "[1, 2, 3, 4, (8, 9, 6, [6, 7, 8, 5])]\n",
      "[1, 2, 3, 4, 8, 9, 10, 34, 5, 6, 7, 8, 54, 3, 56, 7]\n",
      "[1, 2, 3, 4, 5, 6, 7, 8, 9, 10, 11, 12]\n"
     ]
    }
   ],
   "source": [
    "a=[1,2,3,4]\n",
    "b=[1,2,3,4]\n",
    "c=[1,2,3,4,5,6,7,8,9,10,11,12,13]\n",
    "def custom_append(original_list,*value_to_be_added):\n",
    "    original_list[len(original_list):]=[value_to_be_added]\n",
    "    return original_list\n",
    "\n",
    "def custom_extend(original_list,*value_to_be_added):\n",
    "    for i in value_to_be_added:\n",
    "        original_list[len(original_list):]=[i]\n",
    "    return original_list\n",
    "\n",
    "def custom_pop(original_list):\n",
    "    original_list=original_list[:len(original_list)-1]\n",
    "    return original_list\n",
    "\n",
    "print(custom_append(a,8,9,6,[6,7,8,5]))\n",
    "print(custom_extend(b,8,9,10,34,5,6,7,8,54,3,56,7))\n",
    "print(custom_pop(c))"
   ]
  },
  {
   "cell_type": "markdown",
   "id": "92764d8f",
   "metadata": {},
   "source": [
    "# 4. Try to write a lambda function which can return a concatenation of all the string that we will pass"
   ]
  },
  {
   "cell_type": "code",
   "execution_count": 23,
   "id": "2bfdce95",
   "metadata": {},
   "outputs": [
    {
     "data": {
      "text/plain": [
       "['s', 'u', 'b', 'h', 'a', 's', 'h', ' ', 'i', 's', ' ', 'a']"
      ]
     },
     "execution_count": 23,
     "metadata": {},
     "output_type": "execute_result"
    }
   ],
   "source": [
    "conct=lambda a:[\"\".join(i) for i in a]\n",
    "conct(\"subhash is a\")"
   ]
  },
  {
   "cell_type": "markdown",
   "id": "ab515016",
   "metadata": {},
   "source": [
    "# 5. Try to write a lambda function which can return list of square of all the data between 1-100"
   ]
  },
  {
   "cell_type": "code",
   "execution_count": 24,
   "id": "e744c0f4",
   "metadata": {},
   "outputs": [],
   "source": [
    "sqr=lambda a,b : [i**2 for i in range(a,b)]"
   ]
  },
  {
   "cell_type": "code",
   "execution_count": 25,
   "id": "31df580d",
   "metadata": {},
   "outputs": [
    {
     "data": {
      "text/plain": [
       "[1,\n",
       " 4,\n",
       " 9,\n",
       " 16,\n",
       " 25,\n",
       " 36,\n",
       " 49,\n",
       " 64,\n",
       " 81,\n",
       " 100,\n",
       " 121,\n",
       " 144,\n",
       " 169,\n",
       " 196,\n",
       " 225,\n",
       " 256,\n",
       " 289,\n",
       " 324,\n",
       " 361,\n",
       " 400,\n",
       " 441,\n",
       " 484,\n",
       " 529,\n",
       " 576,\n",
       " 625,\n",
       " 676,\n",
       " 729,\n",
       " 784,\n",
       " 841,\n",
       " 900,\n",
       " 961,\n",
       " 1024,\n",
       " 1089,\n",
       " 1156,\n",
       " 1225,\n",
       " 1296,\n",
       " 1369,\n",
       " 1444,\n",
       " 1521,\n",
       " 1600,\n",
       " 1681,\n",
       " 1764,\n",
       " 1849,\n",
       " 1936,\n",
       " 2025,\n",
       " 2116,\n",
       " 2209,\n",
       " 2304,\n",
       " 2401,\n",
       " 2500,\n",
       " 2601,\n",
       " 2704,\n",
       " 2809,\n",
       " 2916,\n",
       " 3025,\n",
       " 3136,\n",
       " 3249,\n",
       " 3364,\n",
       " 3481,\n",
       " 3600,\n",
       " 3721,\n",
       " 3844,\n",
       " 3969,\n",
       " 4096,\n",
       " 4225,\n",
       " 4356,\n",
       " 4489,\n",
       " 4624,\n",
       " 4761,\n",
       " 4900,\n",
       " 5041,\n",
       " 5184,\n",
       " 5329,\n",
       " 5476,\n",
       " 5625,\n",
       " 5776,\n",
       " 5929,\n",
       " 6084,\n",
       " 6241,\n",
       " 6400,\n",
       " 6561,\n",
       " 6724,\n",
       " 6889,\n",
       " 7056,\n",
       " 7225,\n",
       " 7396,\n",
       " 7569,\n",
       " 7744,\n",
       " 7921,\n",
       " 8100,\n",
       " 8281,\n",
       " 8464,\n",
       " 8649,\n",
       " 8836,\n",
       " 9025,\n",
       " 9216,\n",
       " 9409,\n",
       " 9604,\n",
       " 9801,\n",
       " 10000]"
      ]
     },
     "execution_count": 25,
     "metadata": {},
     "output_type": "execute_result"
    }
   ],
   "source": [
    "sqr(1,101)"
   ]
  },
  {
   "cell_type": "markdown",
   "id": "7269dd75",
   "metadata": {},
   "source": [
    "# 6. Try to write a 10 different different exaple of lambda function with a choice of your tasks"
   ]
  },
  {
   "cell_type": "code",
   "execution_count": 26,
   "id": "ccca693b",
   "metadata": {},
   "outputs": [
    {
     "data": {
      "text/plain": [
       "30"
      ]
     },
     "execution_count": 26,
     "metadata": {},
     "output_type": "execute_result"
    }
   ],
   "source": [
    "exp1=lambda a,b: a+b\n",
    "exp1(10,20)"
   ]
  },
  {
   "cell_type": "code",
   "execution_count": 27,
   "id": "6dbd7886",
   "metadata": {},
   "outputs": [
    {
     "data": {
      "text/plain": [
       "200"
      ]
     },
     "execution_count": 27,
     "metadata": {},
     "output_type": "execute_result"
    }
   ],
   "source": [
    "exp1=lambda a,b: a*b\n",
    "exp1(10,20)"
   ]
  },
  {
   "cell_type": "code",
   "execution_count": 28,
   "id": "e3eaa74f",
   "metadata": {},
   "outputs": [
    {
     "data": {
      "text/plain": [
       "0.5"
      ]
     },
     "execution_count": 28,
     "metadata": {},
     "output_type": "execute_result"
    }
   ],
   "source": [
    "exp1=lambda a,b: a/b\n",
    "exp1(10,20)"
   ]
  },
  {
   "cell_type": "code",
   "execution_count": 29,
   "id": "82cf0400",
   "metadata": {},
   "outputs": [
    {
     "data": {
      "text/plain": [
       "100000000000000000000"
      ]
     },
     "execution_count": 29,
     "metadata": {},
     "output_type": "execute_result"
    }
   ],
   "source": [
    "exp1=lambda a,b: a**b\n",
    "exp1(10,20)"
   ]
  },
  {
   "cell_type": "code",
   "execution_count": 30,
   "id": "6f40d315",
   "metadata": {},
   "outputs": [
    {
     "data": {
      "text/plain": [
       "10"
      ]
     },
     "execution_count": 30,
     "metadata": {},
     "output_type": "execute_result"
    }
   ],
   "source": [
    "exp1=lambda a,b: a%b\n",
    "exp1(10,20)"
   ]
  },
  {
   "cell_type": "code",
   "execution_count": 31,
   "id": "bb4d42b1",
   "metadata": {},
   "outputs": [
    {
     "data": {
      "text/plain": [
       "610"
      ]
     },
     "execution_count": 31,
     "metadata": {},
     "output_type": "execute_result"
    }
   ],
   "source": [
    "exp1=lambda a,b,c: a+b*c\n",
    "exp1(10,20,30)"
   ]
  },
  {
   "cell_type": "code",
   "execution_count": 32,
   "id": "ebb5d15f",
   "metadata": {},
   "outputs": [
    {
     "data": {
      "text/plain": [
       "[100, 121, 144, 169, 196, 225, 256, 289, 324, 361]"
      ]
     },
     "execution_count": 32,
     "metadata": {},
     "output_type": "execute_result"
    }
   ],
   "source": [
    "exp1=lambda a,b: [i**2 for i in range(a,b)]\n",
    "exp1(10,20)"
   ]
  },
  {
   "cell_type": "code",
   "execution_count": 33,
   "id": "0606c38b",
   "metadata": {},
   "outputs": [
    {
     "data": {
      "text/plain": [
       "[10, 20, 30, 40]"
      ]
     },
     "execution_count": 33,
     "metadata": {},
     "output_type": "execute_result"
    }
   ],
   "source": [
    "exp1=lambda *a: [ i for i in a]\n",
    "exp1(10,20,30,40)"
   ]
  },
  {
   "cell_type": "code",
   "execution_count": 42,
   "id": "6c0d1c17",
   "metadata": {},
   "outputs": [
    {
     "data": {
      "text/plain": [
       "['f', 'a', 'c', 'd']"
      ]
     },
     "execution_count": 42,
     "metadata": {},
     "output_type": "execute_result"
    }
   ],
   "source": [
    "exp1=lambda **a:[ k for k in a]\n",
    "exp1(f=10,a=20,c=30,d=40)"
   ]
  },
  {
   "cell_type": "code",
   "execution_count": 46,
   "id": "e851c3e3",
   "metadata": {},
   "outputs": [
    {
     "data": {
      "text/plain": [
       "[('f', 10), ('a', 20), ('c', 30), ('d', 40)]"
      ]
     },
     "execution_count": 46,
     "metadata": {},
     "output_type": "execute_result"
    }
   ],
   "source": [
    "exp1=lambda **a:[ k for k in a.items()]\n",
    "exp1(f=10,a=20,c=30,d=40)"
   ]
  },
  {
   "cell_type": "markdown",
   "id": "dfd246a1",
   "metadata": {},
   "source": [
    "# 7. Try to write a function whch can perform a read opertaion from.txt file"
   ]
  },
  {
   "cell_type": "code",
   "execution_count": 48,
   "id": "fb001730",
   "metadata": {},
   "outputs": [
    {
     "name": "stdout",
     "output_type": "stream",
     "text": [
      "Python Lambda Functions\n",
      "\n",
      "\n",
      "\n",
      "Difficulty Level : Easy\n",
      "\n",
      "Last Updated : 07 Jun, 2022\n",
      "\n",
      "Python Lambda Functions are anonymous function means that the function is without a name. As we already know that the def keyword is used to define a normal function in Python. Similarly, the lambda keyword is used to define an anonymous function in Python. \n",
      "\n",
      "\n",
      "\n",
      "Python Lambda Function Syntax:\n",
      "\n",
      "\n",
      "\n",
      "lambda arguments: expression\n",
      "\n",
      "This function can have any number of arguments but only one expression, which is evaluated and returned.\n",
      "\n",
      "One is free to use lambda functions wherever function objects are required.\n",
      "\n",
      "You need to keep in your knowledge that lambda functions are syntactically restricted to a single expression.\n",
      "\n",
      "It has various uses in particular fields of programming besides other types of expressions in functions.\n"
     ]
    }
   ],
   "source": [
    "f=open('testing.txt')\n",
    "for i in f:\n",
    "    print(i)"
   ]
  }
 ],
 "metadata": {
  "kernelspec": {
   "display_name": "Python 3 (ipykernel)",
   "language": "python",
   "name": "python3"
  },
  "language_info": {
   "codemirror_mode": {
    "name": "ipython",
    "version": 3
   },
   "file_extension": ".py",
   "mimetype": "text/x-python",
   "name": "python",
   "nbconvert_exporter": "python",
   "pygments_lexer": "ipython3",
   "version": "3.9.7"
  }
 },
 "nbformat": 4,
 "nbformat_minor": 5
}
